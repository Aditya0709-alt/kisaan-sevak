{
 "cells": [
  {
   "cell_type": "code",
   "execution_count": 53,
   "metadata": {
    "colab": {
     "autoexec": {
      "startup": false,
      "wait_interval": 0
     }
    },
    "colab_type": "code",
    "id": "97rifHR2dyNQ"
   },
   "outputs": [],
   "source": [
    "import nltk\n",
    "from nltk.stem.lancaster import LancasterStemmer\n",
    "import numpy as np\n",
    "from tensorflow.python.framework import ops\n",
    "import tflearn\n",
    "import random"
   ]
  },
  {
   "cell_type": "code",
   "execution_count": 54,
   "metadata": {
    "colab": {
     "autoexec": {
      "startup": false,
      "wait_interval": 0
     },
     "base_uri": "https://localhost:8080/",
     "height": 247,
     "output_extras": [
      {}
     ]
    },
    "colab_type": "code",
    "executionInfo": {
     "elapsed": 5903,
     "status": "ok",
     "timestamp": 1521399223612,
     "user": {
      "displayName": "Gaurav Agarwal",
      "photoUrl": "//lh6.googleusercontent.com/-lWcHWWBPevg/AAAAAAAAAAI/AAAAAAAAF_8/NRDhONXDYcc/s50-c-k-no/photo.jpg",
      "userId": "102008482759980640526"
     },
     "user_tz": -330
    },
    "id": "vr8ayZRJdaiF",
    "outputId": "e34bee1e-fa67-49ef-815b-03996549804f"
   },
   "outputs": [
    {
     "name": "stdout",
     "output_type": "stream",
     "text": [
      "Requirement already satisfied: tflearn in /Users/aditya/opt/anaconda3/lib/python3.9/site-packages (0.5.0)\r\n",
      "Requirement already satisfied: Pillow in /Users/aditya/opt/anaconda3/lib/python3.9/site-packages (from tflearn) (9.3.0)\r\n",
      "Requirement already satisfied: numpy in /Users/aditya/opt/anaconda3/lib/python3.9/site-packages (from tflearn) (1.23.5)\r\n",
      "Requirement already satisfied: six in /Users/aditya/opt/anaconda3/lib/python3.9/site-packages (from tflearn) (1.16.0)\r\n"
     ]
    }
   ],
   "source": [
    "!pip install tflearn"
   ]
  },
  {
   "cell_type": "code",
   "execution_count": null,
   "metadata": {},
   "outputs": [],
   "source": []
  },
  {
   "cell_type": "code",
   "execution_count": 55,
   "metadata": {
    "colab": {
     "autoexec": {
      "startup": false,
      "wait_interval": 0
     },
     "base_uri": "https://localhost:8080/",
     "height": 108,
     "output_extras": [
      {}
     ]
    },
    "colab_type": "code",
    "executionInfo": {
     "elapsed": 45099,
     "status": "ok",
     "timestamp": 1521399395009,
     "user": {
      "displayName": "Gaurav Agarwal",
      "photoUrl": "//lh6.googleusercontent.com/-lWcHWWBPevg/AAAAAAAAAAI/AAAAAAAAF_8/NRDhONXDYcc/s50-c-k-no/photo.jpg",
      "userId": "102008482759980640526"
     },
     "user_tz": -330
    },
    "id": "clhQq6b8dq6l",
    "outputId": "a72b53a4-d814-4f6e-bba6-18bf8da2d3b5"
   },
   "outputs": [],
   "source": [
    "# !apt-get install -y -qq software-properties-common python-software-properties module-init-tools\n",
    "# !add-apt-repository -y ppa:alessandro-strada/ppa 2>&1 > /dev/null\n",
    "# !apt-get update -qq 2>&1 > /dev/null\n",
    "# !apt-get -y install -qq google-drive-ocamlfuse fuse\n",
    "# from google.colab import auth\n",
    "# auth.authenticate_user()\n",
    "# from oauth2client.client import GoogleCredentials\n",
    "# creds = GoogleCredentials.get_application_default()\n",
    "# import getpass\n",
    "# !google-drive-ocamlfuse -headless -id={creds.client_id} -secret={creds.client_secret} < /dev/null 2>&1 | grep URL\n",
    "# vcode = getpass.getpass()\n",
    "# !echo {vcode} | google-drive-ocamlfuse -headless -id={creds.client_id} -secret={creds.client_secret}"
   ]
  },
  {
   "cell_type": "code",
   "execution_count": 56,
   "metadata": {
    "colab": {
     "autoexec": {
      "startup": false,
      "wait_interval": 0
     }
    },
    "colab_type": "code",
    "id": "n98XZIVmgyDY"
   },
   "outputs": [],
   "source": [
    "# !mkdir -p drive\n",
    "# !google-drive-ocamlfuse drive"
   ]
  },
  {
   "cell_type": "code",
   "execution_count": 57,
   "metadata": {
    "colab": {
     "autoexec": {
      "startup": false,
      "wait_interval": 0
     }
    },
    "colab_type": "code",
    "id": "EZGdflk0dyNW"
   },
   "outputs": [],
   "source": [
    "import json\n",
    "with open('intents.json') as json_data:\n",
    "    intents = json.load(json_data)"
   ]
  },
  {
   "cell_type": "code",
   "execution_count": 58,
   "metadata": {
    "colab": {
     "autoexec": {
      "startup": false,
      "wait_interval": 0
     },
     "base_uri": "https://localhost:8080/",
     "height": 70,
     "output_extras": [
      {},
      {}
     ]
    },
    "colab_type": "code",
    "executionInfo": {
     "elapsed": 3346,
     "status": "ok",
     "timestamp": 1521400421389,
     "user": {
      "displayName": "Gaurav Agarwal",
      "photoUrl": "//lh6.googleusercontent.com/-lWcHWWBPevg/AAAAAAAAAAI/AAAAAAAAF_8/NRDhONXDYcc/s50-c-k-no/photo.jpg",
      "userId": "102008482759980640526"
     },
     "user_tz": -330
    },
    "id": "eHqXQt8HiAbx",
    "outputId": "b8cc6921-b96a-47be-f0d7-e96ef3ed8758"
   },
   "outputs": [
    {
     "name": "stderr",
     "output_type": "stream",
     "text": [
      "[nltk_data] Downloading package punkt to /Users/aditya/nltk_data...\n",
      "[nltk_data]   Package punkt is already up-to-date!\n"
     ]
    },
    {
     "data": {
      "text/plain": [
       "True"
      ]
     },
     "execution_count": 58,
     "metadata": {},
     "output_type": "execute_result"
    }
   ],
   "source": [
    "import nltk\n",
    "nltk.download('punkt')"
   ]
  },
  {
   "cell_type": "code",
   "execution_count": 59,
   "metadata": {
    "colab": {
     "autoexec": {
      "startup": false,
      "wait_interval": 0
     }
    },
    "colab_type": "code",
    "id": "rLhPWTc_dyNc"
   },
   "outputs": [],
   "source": [
    "words=[]\n",
    "documents=[]\n",
    "classes=[]\n",
    "ignore_words=['?']\n",
    "\n",
    "stemmer = LancasterStemmer()\n",
    "\n",
    "# loop through each sentence in our intents patterns\n",
    "for intent in intents['intents']:\n",
    "    for pattern in intent['patterns']:\n",
    "     # tokenize each word in the sentence\n",
    "         w=nltk.word_tokenize(pattern)\n",
    "     # add to our words list\n",
    "         words.extend(w)\n",
    "    # add to documents in our corpus\n",
    "         documents.append((w, intent['tag']))\n",
    "     # add to our classes list\n",
    "         if intent['tag'] not in classes:\n",
    "             classes.append(intent['tag'])\n",
    "        \n",
    "\n",
    "# stem and lower each word and remove duplicates\n",
    "words=[stemmer.stem(w.lower()) for w in words if w not in ignore_words]\n",
    "words=sorted(list(set(words)))\n",
    "\n",
    "# remove duplicates\n",
    "classes=sorted(list(set(classes)))"
   ]
  },
  {
   "cell_type": "code",
   "execution_count": 60,
   "metadata": {
    "colab": {
     "autoexec": {
      "startup": false,
      "wait_interval": 0
     },
     "base_uri": "https://localhost:8080/",
     "height": 90,
     "output_extras": [
      {}
     ]
    },
    "colab_type": "code",
    "executionInfo": {
     "elapsed": 1732,
     "status": "ok",
     "timestamp": 1521400435326,
     "user": {
      "displayName": "Gaurav Agarwal",
      "photoUrl": "//lh6.googleusercontent.com/-lWcHWWBPevg/AAAAAAAAAAI/AAAAAAAAF_8/NRDhONXDYcc/s50-c-k-no/photo.jpg",
      "userId": "102008482759980640526"
     },
     "user_tz": -330
    },
    "id": "6qrJABUmdyNl",
    "outputId": "88ab0643-0abc-4cfd-8435-6274cfd9f50a"
   },
   "outputs": [
    {
     "name": "stdout",
     "output_type": "stream",
     "text": [
      "25 documents [(['Hi'], 'greeting'), (['How', 'are', 'you'], 'greeting'), (['Is', 'anyone', 'there', '?'], 'greeting'), (['Hello'], 'greeting'), (['Good', 'day'], 'greeting'), (['Namaste'], 'greeting'), (['Bye'], 'goodbye'), (['See', 'you', 'later'], 'goodbye'), (['Goodbye'], 'goodbye'), (['Thanks'], 'thanks'), (['Thank', 'you'], 'thanks'), (['That', \"'s\", 'helpful'], 'thanks'), (['TELL', 'ME', 'ABOUT', 'TAKING', 'SOIL', 'SAMPLE'], 'Soil Testing'), (['How', 'to', 'take', 'soil', 'sample', '?'], 'Soil Testing'), (['What', 'is', 'the', 'technique', 'used', 'in', 'taking', 'soil', 'sample'], 'Soil Testing'), (['TELL', 'ME', 'SOMETHING', 'ABOUT', 'NUTRIENT', 'MANAGEMENT', '?'], 'Nutrient Management'), (['What', 'are', 'some', 'ways', 'to', 'improve', 'nutrients', 'in', 'soil'], 'Nutrient Management'), (['How', 'to', 'manage', 'nutrients'], 'Nutrient Management'), (['TELL', 'ME', 'HOW', 'TO', 'CONTROL', 'INSECT', 'IN', 'WHEAT'], 'Plant Protection'), (['What', 'are', 'some', 'ways', 'to', 'control', 'insects', 'in', 'wheat'], 'Plant Protection'), (['GIVE', 'ME', 'SOME', 'INFORMATION', 'ON', 'SUBSIDIES'], 'Subsidy'), (['What', 'are', 'some', 'various', 'subsidy', 'data', '?'], 'Subsidy'), (['Farm', 'pond'], 'farm pond'), (['Solar', 'plant'], 'solar plant'), (['Pipe', 'line'], 'pipe line')]\n",
      "10 classes ['Nutrient Management', 'Plant Protection', 'Soil Testing', 'Subsidy', 'farm pond', 'goodbye', 'greeting', 'pipe line', 'solar plant', 'thanks']\n",
      "52 unique stemmed words [\"'s\", 'about', 'anyon', 'ar', 'bye', 'control', 'dat', 'day', 'farm', 'giv', 'good', 'goodby', 'hello', 'help', 'hi', 'how', 'improv', 'in', 'inform', 'insect', 'is', 'lat', 'lin', 'man', 'me', 'namast', 'nutry', 'on', 'pip', 'plant', 'pond', 'sampl', 'see', 'soil', 'sol', 'som', 'someth', 'subsidy', 'tak', 'techn', 'tel', 'thank', 'that', 'the', 'ther', 'to', 'us', 'vary', 'way', 'what', 'whe', 'you']\n"
     ]
    }
   ],
   "source": [
    "print (len(documents), \"documents\",documents)\n",
    "print (len(classes), \"classes\", classes)\n",
    "print (len(words), \"unique stemmed words\", words)\n"
   ]
  },
  {
   "cell_type": "code",
   "execution_count": 61,
   "metadata": {
    "colab": {
     "autoexec": {
      "startup": false,
      "wait_interval": 0
     }
    },
    "colab_type": "code",
    "id": "pxmnwORmdyNv"
   },
   "outputs": [
    {
     "name": "stderr",
     "output_type": "stream",
     "text": [
      "/var/folders/f8/pr3njbwj3vl3_thlf_2n0njr0000gp/T/ipykernel_51117/45723145.py:26: VisibleDeprecationWarning: Creating an ndarray from ragged nested sequences (which is a list-or-tuple of lists-or-tuples-or ndarrays with different lengths or shapes) is deprecated. If you meant to do this, you must specify 'dtype=object' when creating the ndarray.\n",
      "  training=np.array(training)\n"
     ]
    }
   ],
   "source": [
    "# create our training data\n",
    "training=[]\n",
    "output=[]\n",
    "\n",
    "# create an empty array for our output\n",
    "output_empty=[0]*len(classes)\n",
    "\n",
    "# training set, bag of words for each sentence\n",
    "for doc in documents:\n",
    "    bag=[]\n",
    "     # list of tokenized words for the pattern\n",
    "    pattern_words=doc[0]\n",
    "    pattern_words=[stemmer.stem(word.lower()) for word in pattern_words]\n",
    "     # create our bag of words array\n",
    "    for w in words:\n",
    "        bag.append(1) if w in pattern_words else bag.append(0)\n",
    "        \n",
    "     # output is a '0' for each tag and '1' for current tag\n",
    "    output_row=list(output_empty)\n",
    "    output_row[classes.index(doc[1])]=1\n",
    "    \n",
    "    training.append([bag,output_row])\n",
    "    \n",
    "# shuffle our features and turn into np.array.\n",
    "random.shuffle(training)\n",
    "training=np.array(training)\n",
    "\n",
    "# create train and test lists\n",
    "train_x = list(training[:,0])\n",
    "train_y = list(training[:,1])\n"
   ]
  },
  {
   "cell_type": "code",
   "execution_count": 62,
   "metadata": {
    "colab": {
     "autoexec": {
      "startup": false,
      "wait_interval": 0
     },
     "base_uri": "https://localhost:8080/",
     "height": 123,
     "output_extras": [
      {}
     ]
    },
    "colab_type": "code",
    "executionInfo": {
     "elapsed": 668,
     "status": "ok",
     "timestamp": 1521400525438,
     "user": {
      "displayName": "Gaurav Agarwal",
      "photoUrl": "//lh6.googleusercontent.com/-lWcHWWBPevg/AAAAAAAAAAI/AAAAAAAAF_8/NRDhONXDYcc/s50-c-k-no/photo.jpg",
      "userId": "102008482759980640526"
     },
     "user_tz": -330
    },
    "id": "ooE5alqwdyNy",
    "outputId": "e5179af7-6ddb-427e-b00f-dd8a6024e7cd",
    "scrolled": true
   },
   "outputs": [
    {
     "name": "stdout",
     "output_type": "stream",
     "text": [
      "Training Step: 3999  | total loss: \u001b[1m\u001b[32m0.00869\u001b[0m\u001b[0m | time: 0.006s\n",
      "| Adam | epoch: 1000 | loss: 0.00869 - acc: 1.0000 -- iter: 24/25\n",
      "Training Step: 4000  | total loss: \u001b[1m\u001b[32m0.00839\u001b[0m\u001b[0m | time: 0.008s\n",
      "| Adam | epoch: 1000 | loss: 0.00839 - acc: 1.0000 -- iter: 25/25\n",
      "--\n",
      "INFO:tensorflow:/Users/aditya/Downloads/Farmer-friendly-contextual-chatbot-master/model.tflearn is not in all_model_checkpoint_paths. Manually adding it.\n"
     ]
    }
   ],
   "source": [
    "# reset underlying graph data\n",
    "ops.reset_default_graph()\n",
    "# Build neural network\n",
    "net = tflearn.input_data(shape=[None, len(train_x[0])])\n",
    "net = tflearn.fully_connected(net, 8)\n",
    "net = tflearn.fully_connected(net, 8)\n",
    "net = tflearn.fully_connected(net, len(train_y[0]), activation='softmax')\n",
    "net = tflearn.regression(net)\n",
    "\n",
    "# Define model and setup tensorboard\n",
    "model = tflearn.DNN(net, tensorboard_dir='tflearn_logs')\n",
    "# Start training (apply gradient descent algorithm)\n",
    "model.fit(train_x, train_y, n_epoch=1000, batch_size=8, show_metric=True)\n",
    "model.save('model.tflearn')"
   ]
  },
  {
   "cell_type": "code",
   "execution_count": 63,
   "metadata": {
    "colab": {
     "autoexec": {
      "startup": false,
      "wait_interval": 0
     }
    },
    "colab_type": "code",
    "id": "BeUq74ISdyN5"
   },
   "outputs": [],
   "source": [
    "# save all of our data structures\n",
    "import pickle\n",
    "pickle.dump({'words':words,'classes':classes,'train_x':train_x,'train_y':train_y},open('training_data','wb'))"
   ]
  },
  {
   "cell_type": "code",
   "execution_count": null,
   "metadata": {},
   "outputs": [],
   "source": []
  },
  {
   "cell_type": "code",
   "execution_count": null,
   "metadata": {},
   "outputs": [],
   "source": []
  },
  {
   "cell_type": "code",
   "execution_count": null,
   "metadata": {},
   "outputs": [],
   "source": []
  },
  {
   "cell_type": "code",
   "execution_count": null,
   "metadata": {},
   "outputs": [],
   "source": []
  },
  {
   "cell_type": "code",
   "execution_count": null,
   "metadata": {},
   "outputs": [],
   "source": []
  },
  {
   "cell_type": "code",
   "execution_count": null,
   "metadata": {},
   "outputs": [],
   "source": []
  }
 ],
 "metadata": {
  "colab": {
   "default_view": {},
   "name": "b1.ipynb",
   "provenance": [],
   "version": "0.3.2",
   "views": {}
  },
  "kernelspec": {
   "display_name": "Python 3 (ipykernel)",
   "language": "python",
   "name": "python3"
  },
  "language_info": {
   "codemirror_mode": {
    "name": "ipython",
    "version": 3
   },
   "file_extension": ".py",
   "mimetype": "text/x-python",
   "name": "python",
   "nbconvert_exporter": "python",
   "pygments_lexer": "ipython3",
   "version": "3.9.13"
  }
 },
 "nbformat": 4,
 "nbformat_minor": 1
}
