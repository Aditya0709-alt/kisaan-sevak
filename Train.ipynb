{
 "cells": [
  {
   "cell_type": "code",
   "execution_count": 1,
   "metadata": {
    "colab": {
     "autoexec": {
      "startup": false,
      "wait_interval": 0
     }
    },
    "colab_type": "code",
    "id": "97rifHR2dyNQ"
   },
   "outputs": [
    {
     "name": "stderr",
     "output_type": "stream",
     "text": [
      "2023-02-25 16:45:21.386115: I tensorflow/core/platform/cpu_feature_guard.cc:193] This TensorFlow binary is optimized with oneAPI Deep Neural Network Library (oneDNN) to use the following CPU instructions in performance-critical operations:  AVX2 FMA\n",
      "To enable them in other operations, rebuild TensorFlow with the appropriate compiler flags.\n"
     ]
    },
    {
     "name": "stdout",
     "output_type": "stream",
     "text": [
      "WARNING:tensorflow:From /Users/aditya/opt/anaconda3/lib/python3.9/site-packages/tensorflow/python/compat/v2_compat.py:107: disable_resource_variables (from tensorflow.python.ops.variable_scope) is deprecated and will be removed in a future version.\n",
      "Instructions for updating:\n",
      "non-resource variables are not supported in the long term\n"
     ]
    }
   ],
   "source": [
    "import nltk\n",
    "from nltk.stem.lancaster import LancasterStemmer\n",
    "import numpy as np\n",
    "from tensorflow.python.framework import ops\n",
    "import tflearn\n",
    "import random"
   ]
  },
  {
   "cell_type": "code",
   "execution_count": 2,
   "metadata": {
    "colab": {
     "autoexec": {
      "startup": false,
      "wait_interval": 0
     },
     "base_uri": "https://localhost:8080/",
     "height": 247,
     "output_extras": [
      {}
     ]
    },
    "colab_type": "code",
    "executionInfo": {
     "elapsed": 5903,
     "status": "ok",
     "timestamp": 1521399223612,
     "user": {
      "displayName": "Gaurav Agarwal",
      "photoUrl": "//lh6.googleusercontent.com/-lWcHWWBPevg/AAAAAAAAAAI/AAAAAAAAF_8/NRDhONXDYcc/s50-c-k-no/photo.jpg",
      "userId": "102008482759980640526"
     },
     "user_tz": -330
    },
    "id": "vr8ayZRJdaiF",
    "outputId": "e34bee1e-fa67-49ef-815b-03996549804f"
   },
   "outputs": [
    {
     "name": "stdout",
     "output_type": "stream",
     "text": [
      "Requirement already satisfied: tflearn in /Users/aditya/opt/anaconda3/lib/python3.9/site-packages (0.5.0)\r\n",
      "Requirement already satisfied: numpy in /Users/aditya/opt/anaconda3/lib/python3.9/site-packages (from tflearn) (1.23.5)\r\n",
      "Requirement already satisfied: six in /Users/aditya/opt/anaconda3/lib/python3.9/site-packages (from tflearn) (1.16.0)\r\n",
      "Requirement already satisfied: Pillow in /Users/aditya/opt/anaconda3/lib/python3.9/site-packages (from tflearn) (9.3.0)\r\n"
     ]
    }
   ],
   "source": [
    "!pip install tflearn"
   ]
  },
  {
   "cell_type": "code",
   "execution_count": 5,
   "metadata": {
    "colab": {
     "autoexec": {
      "startup": false,
      "wait_interval": 0
     }
    },
    "colab_type": "code",
    "id": "EZGdflk0dyNW",
    "scrolled": true
   },
   "outputs": [],
   "source": [
    "import json\n",
    "with open('intents.json') as json_data:\n",
    "    intents = json.load(json_data)"
   ]
  },
  {
   "cell_type": "code",
   "execution_count": 6,
   "metadata": {
    "colab": {
     "autoexec": {
      "startup": false,
      "wait_interval": 0
     },
     "base_uri": "https://localhost:8080/",
     "height": 70,
     "output_extras": [
      {},
      {}
     ]
    },
    "colab_type": "code",
    "executionInfo": {
     "elapsed": 3346,
     "status": "ok",
     "timestamp": 1521400421389,
     "user": {
      "displayName": "Gaurav Agarwal",
      "photoUrl": "//lh6.googleusercontent.com/-lWcHWWBPevg/AAAAAAAAAAI/AAAAAAAAF_8/NRDhONXDYcc/s50-c-k-no/photo.jpg",
      "userId": "102008482759980640526"
     },
     "user_tz": -330
    },
    "id": "eHqXQt8HiAbx",
    "outputId": "b8cc6921-b96a-47be-f0d7-e96ef3ed8758"
   },
   "outputs": [
    {
     "name": "stderr",
     "output_type": "stream",
     "text": [
      "[nltk_data] Downloading package punkt to /Users/aditya/nltk_data...\n",
      "[nltk_data]   Package punkt is already up-to-date!\n"
     ]
    },
    {
     "data": {
      "text/plain": [
       "True"
      ]
     },
     "execution_count": 6,
     "metadata": {},
     "output_type": "execute_result"
    }
   ],
   "source": [
    "import nltk\n",
    "nltk.download('punkt')"
   ]
  },
  {
   "cell_type": "code",
   "execution_count": 7,
   "metadata": {
    "colab": {
     "autoexec": {
      "startup": false,
      "wait_interval": 0
     }
    },
    "colab_type": "code",
    "id": "rLhPWTc_dyNc"
   },
   "outputs": [],
   "source": [
    "words=[]\n",
    "documents=[]\n",
    "classes=[]\n",
    "ignore_words=['?']\n",
    "\n",
    "stemmer = LancasterStemmer()\n",
    "\n",
    "\n",
    "for intent in intents['intents']:\n",
    "    for pattern in intent['patterns']:\n",
    "         w=nltk.word_tokenize(pattern)\n",
    "         words.extend(w)\n",
    "         documents.append((w, intent['tag']))\n",
    "         if intent['tag'] not in classes:\n",
    "             classes.append(intent['tag'])\n",
    "        \n",
    "\n",
    "words=[stemmer.stem(w.lower()) for w in words if w not in ignore_words]\n",
    "words=sorted(list(set(words)))\n",
    "\n",
    "\n",
    "classes=sorted(list(set(classes)))"
   ]
  },
  {
   "cell_type": "code",
   "execution_count": 8,
   "metadata": {
    "colab": {
     "autoexec": {
      "startup": false,
      "wait_interval": 0
     },
     "base_uri": "https://localhost:8080/",
     "height": 90,
     "output_extras": [
      {}
     ]
    },
    "colab_type": "code",
    "executionInfo": {
     "elapsed": 1732,
     "status": "ok",
     "timestamp": 1521400435326,
     "user": {
      "displayName": "Gaurav Agarwal",
      "photoUrl": "//lh6.googleusercontent.com/-lWcHWWBPevg/AAAAAAAAAAI/AAAAAAAAF_8/NRDhONXDYcc/s50-c-k-no/photo.jpg",
      "userId": "102008482759980640526"
     },
     "user_tz": -330
    },
    "id": "6qrJABUmdyNl",
    "outputId": "88ab0643-0abc-4cfd-8435-6274cfd9f50a"
   },
   "outputs": [
    {
     "name": "stdout",
     "output_type": "stream",
     "text": [
      "30 documents [(['Hi'], 'greeting'), (['How', 'are', 'you'], 'greeting'), (['Is', 'anyone', 'there', '?'], 'greeting'), (['Hello'], 'greeting'), (['Good', 'day'], 'greeting'), (['Namaste'], 'greeting'), (['Bye'], 'goodbye'), (['See', 'you', 'later'], 'goodbye'), (['Goodbye'], 'goodbye'), (['Thanks'], 'thanks'), (['Thank', 'you'], 'thanks'), (['That', \"'s\", 'helpful'], 'thanks'), (['TELL', 'ME', 'ABOUT', 'TAKING', 'SOIL', 'SAMPLE'], 'Soil Testing'), (['How', 'to', 'take', 'soil', 'sample', '?'], 'Soil Testing'), (['What', 'is', 'the', 'technique', 'used', 'in', 'taking', 'soil', 'sample'], 'Soil Testing'), (['TELL', 'ME', 'SOMETHING', 'ABOUT', 'NUTRIENT', 'MANAGEMENT', '?'], 'Nutrient Management'), (['What', 'are', 'some', 'ways', 'to', 'improve', 'nutrients', 'in', 'soil'], 'Nutrient Management'), (['How', 'to', 'manage', 'nutrients'], 'Nutrient Management'), (['Please', 'refer', 'the', 'following', 'website', '(', 'https', ':', '//www.epa.gov/agriculture/agriculture-nutrient-management-and-fertilizer', ')'], 'Nutrient Management'), (['TELL', 'ME', 'HOW', 'TO', 'CONTROL', 'INSECT', 'IN', 'WHEAT'], 'Plant Protection'), (['What', 'are', 'some', 'ways', 'to', 'control', 'insects', 'in', 'wheat'], 'Plant Protection'), (['GIVE', 'ME', 'SOME', 'INFORMATION', 'ON', 'SUBSIDIES'], 'Subsidy'), (['What', 'are', 'some', 'various', 'subsidy', 'data', '?'], 'Subsidy'), (['Farm', 'pond'], 'farm pond'), (['Solar', 'plant'], 'solar plant'), (['Give', 'me', 'some', 'information', 'about', 'cotton'], 'cotton'), (['I', 'want', 'to', 'know', 'about', 'cotton'], 'cotton'), (['Give', 'me', 'some', 'information', 'about', 'seeds'], 'seeds'), (['How', 'do', 'I', 'procure', 'seeds'], 'seeds'), (['Pipe', 'line'], 'pipe line')]\n",
      "12 classes ['Nutrient Management', 'Plant Protection', 'Soil Testing', 'Subsidy', 'cotton', 'farm pond', 'goodbye', 'greeting', 'pipe line', 'seeds', 'solar plant', 'thanks']\n",
      "67 unique stemmed words [\"'s\", '(', ')', '//www.epa.gov/agriculture/agriculture-nutrient-management-and-fertilizer', ':', 'about', 'anyon', 'ar', 'bye', 'control', 'cotton', 'dat', 'day', 'do', 'farm', 'follow', 'giv', 'good', 'goodby', 'hello', 'help', 'hi', 'how', 'https', 'i', 'improv', 'in', 'inform', 'insect', 'is', 'know', 'lat', 'lin', 'man', 'me', 'namast', 'nutry', 'on', 'pip', 'plant', 'pleas', 'pond', 'proc', 'ref', 'sampl', 'see', 'soil', 'sol', 'som', 'someth', 'subsidy', 'tak', 'techn', 'tel', 'thank', 'that', 'the', 'ther', 'to', 'us', 'vary', 'want', 'way', 'websit', 'what', 'whe', 'you']\n"
     ]
    }
   ],
   "source": [
    "print (len(documents), \"documents\",documents)\n",
    "print (len(classes), \"classes\", classes)\n",
    "print (len(words), \"unique stemmed words\", words)\n"
   ]
  },
  {
   "cell_type": "code",
   "execution_count": 9,
   "metadata": {
    "colab": {
     "autoexec": {
      "startup": false,
      "wait_interval": 0
     }
    },
    "colab_type": "code",
    "id": "pxmnwORmdyNv"
   },
   "outputs": [
    {
     "name": "stderr",
     "output_type": "stream",
     "text": [
      "/var/folders/f8/pr3njbwj3vl3_thlf_2n0njr0000gp/T/ipykernel_76453/45723145.py:26: VisibleDeprecationWarning: Creating an ndarray from ragged nested sequences (which is a list-or-tuple of lists-or-tuples-or ndarrays with different lengths or shapes) is deprecated. If you meant to do this, you must specify 'dtype=object' when creating the ndarray.\n",
      "  training=np.array(training)\n"
     ]
    }
   ],
   "source": [
    "\n",
    "training=[]\n",
    "output=[]\n",
    "\n",
    "output_empty=[0]*len(classes)\n",
    "\n",
    "for doc in documents:\n",
    "    bag=[]\n",
    "    pattern_words=doc[0]\n",
    "    pattern_words=[stemmer.stem(word.lower()) for word in pattern_words]\n",
    "    for w in words:\n",
    "        bag.append(1) if w in pattern_words else bag.append(0)\n",
    "        \n",
    "    output_row=list(output_empty)\n",
    "    output_row[classes.index(doc[1])]=1\n",
    "    \n",
    "    training.append([bag,output_row])\n",
    "    \n",
    "random.shuffle(training)\n",
    "training=np.array(training)\n",
    "\n",
    "train_x = list(training[:,0])\n",
    "train_y = list(training[:,1])\n"
   ]
  },
  {
   "cell_type": "code",
   "execution_count": 10,
   "metadata": {
    "colab": {
     "autoexec": {
      "startup": false,
      "wait_interval": 0
     },
     "base_uri": "https://localhost:8080/",
     "height": 123,
     "output_extras": [
      {}
     ]
    },
    "colab_type": "code",
    "executionInfo": {
     "elapsed": 668,
     "status": "ok",
     "timestamp": 1521400525438,
     "user": {
      "displayName": "Gaurav Agarwal",
      "photoUrl": "//lh6.googleusercontent.com/-lWcHWWBPevg/AAAAAAAAAAI/AAAAAAAAF_8/NRDhONXDYcc/s50-c-k-no/photo.jpg",
      "userId": "102008482759980640526"
     },
     "user_tz": -330
    },
    "id": "ooE5alqwdyNy",
    "outputId": "e5179af7-6ddb-427e-b00f-dd8a6024e7cd",
    "scrolled": true
   },
   "outputs": [
    {
     "name": "stdout",
     "output_type": "stream",
     "text": [
      "Training Step: 3999  | total loss: \u001b[1m\u001b[32m0.79449\u001b[0m\u001b[0m | time: 0.005s\n",
      "| Adam | epoch: 1000 | loss: 0.79449 - acc: 0.9307 -- iter: 24/30\n",
      "Training Step: 4000  | total loss: \u001b[1m\u001b[32m0.71810\u001b[0m\u001b[0m | time: 0.006s\n",
      "| Adam | epoch: 1000 | loss: 0.71810 - acc: 0.9376 -- iter: 30/30\n",
      "--\n",
      "INFO:tensorflow:/Users/aditya/Downloads/Farmer-friendly-contextual-chatbot-master/model.tflearn is not in all_model_checkpoint_paths. Manually adding it.\n"
     ]
    }
   ],
   "source": [
    "ops.reset_default_graph()\n",
    "net = tflearn.input_data(shape=[None, len(train_x[0])])\n",
    "net = tflearn.fully_connected(net, 8)\n",
    "net = tflearn.fully_connected(net, 8)\n",
    "net = tflearn.fully_connected(net, len(train_y[0]), activation='softmax')\n",
    "net = tflearn.regression(net)\n",
    "\n",
    "model = tflearn.DNN(net, tensorboard_dir='tflearn_logs')\n",
    "model.fit(train_x, train_y, n_epoch=1000, batch_size=8, show_metric=True)\n",
    "model.save('model.tflearn')"
   ]
  },
  {
   "cell_type": "code",
   "execution_count": 11,
   "metadata": {
    "colab": {
     "autoexec": {
      "startup": false,
      "wait_interval": 0
     }
    },
    "colab_type": "code",
    "id": "BeUq74ISdyN5"
   },
   "outputs": [],
   "source": [
    "import pickle\n",
    "pickle.dump({'words':words,'classes':classes,'train_x':train_x,'train_y':train_y},open('training_data','wb'))"
   ]
  },
  {
   "cell_type": "code",
   "execution_count": null,
   "metadata": {},
   "outputs": [],
   "source": []
  },
  {
   "cell_type": "code",
   "execution_count": null,
   "metadata": {},
   "outputs": [],
   "source": []
  },
  {
   "cell_type": "code",
   "execution_count": null,
   "metadata": {},
   "outputs": [],
   "source": []
  },
  {
   "cell_type": "code",
   "execution_count": null,
   "metadata": {},
   "outputs": [],
   "source": []
  },
  {
   "cell_type": "code",
   "execution_count": null,
   "metadata": {},
   "outputs": [],
   "source": []
  },
  {
   "cell_type": "code",
   "execution_count": null,
   "metadata": {},
   "outputs": [],
   "source": []
  },
  {
   "cell_type": "code",
   "execution_count": null,
   "metadata": {},
   "outputs": [],
   "source": []
  },
  {
   "cell_type": "code",
   "execution_count": null,
   "metadata": {},
   "outputs": [],
   "source": []
  },
  {
   "cell_type": "code",
   "execution_count": null,
   "metadata": {},
   "outputs": [],
   "source": []
  },
  {
   "cell_type": "code",
   "execution_count": null,
   "metadata": {},
   "outputs": [],
   "source": []
  },
  {
   "cell_type": "code",
   "execution_count": null,
   "metadata": {},
   "outputs": [],
   "source": []
  },
  {
   "cell_type": "code",
   "execution_count": null,
   "metadata": {},
   "outputs": [],
   "source": []
  }
 ],
 "metadata": {
  "colab": {
   "default_view": {},
   "name": "b1.ipynb",
   "provenance": [],
   "version": "0.3.2",
   "views": {}
  },
  "kernelspec": {
   "display_name": "Python 3 (ipykernel)",
   "language": "python",
   "name": "python3"
  },
  "language_info": {
   "codemirror_mode": {
    "name": "ipython",
    "version": 3
   },
   "file_extension": ".py",
   "mimetype": "text/x-python",
   "name": "python",
   "nbconvert_exporter": "python",
   "pygments_lexer": "ipython3",
   "version": "3.9.13"
  }
 },
 "nbformat": 4,
 "nbformat_minor": 1
}
